{
 "cells": [
  {
   "cell_type": "markdown",
   "metadata": {},
   "source": [
    "TITANIC Dataset Analyzation "
   ]
  },
  {
   "cell_type": "code",
   "execution_count": null,
   "metadata": {},
   "outputs": [],
   "source": [
    "import pandas as pd\n",
    "import numpy as np\n",
    "import matplotlib.pyplot as plt\n",
    "import seaborn as sns\n",
    "\n"
   ]
  },
  {
   "cell_type": "code",
   "execution_count": null,
   "metadata": {},
   "outputs": [],
   "source": [
    "# Load the dataset file\n",
    "df = pd.read_csv(r\"E:\\ML_Projects\\titanic Dataset\\train.csv\")\n",
    "\n",
    "# Ensure we are working with the actual dataframe\n",
    "df = df.copy()\n",
    "\n",
    "# Display the first 5 rows of the dataset\n",
    "display(df.head())\n",
    "\n"
   ]
  },
  {
   "cell_type": "code",
   "execution_count": null,
   "metadata": {},
   "outputs": [],
   "source": [
    "# Display the last 5 rows of the dataset\n",
    "display(df.tail())\n"
   ]
  },
  {
   "cell_type": "code",
   "execution_count": null,
   "metadata": {},
   "outputs": [],
   "source": [
    "# Display missing values of the dataset\n",
    "display(df.isnull().sum())\n"
   ]
  },
  {
   "cell_type": "code",
   "execution_count": null,
   "metadata": {},
   "outputs": [],
   "source": [
    "# Fill missing values\n",
    "df['Age'] = df['Age'].fillna(df['Age'].median())\n",
    "df['Embarked'] = df['Embarked'].fillna(df['Embarked'].mode()[0])\n",
    "df.drop(columns=['Cabin'], inplace=True)\n",
    "\n",
    "# Check if any missing values still exist\n",
    "display(df.isnull().sum())\n"
   ]
  },
  {
   "cell_type": "code",
   "execution_count": null,
   "metadata": {},
   "outputs": [],
   "source": [
    "# Display basic statistics of the dataset\n",
    "display(df.describe())\n"
   ]
  },
  {
   "cell_type": "code",
   "execution_count": null,
   "metadata": {},
   "outputs": [],
   "source": [
    "# Survival Count Plot\n",
    "plt.figure(figsize=(8, 6))\n",
    "custom_colors = [\"#FF4C4C\", \"#5CD85C\"]\n",
    "sns.countplot(x='Survived', data=df, hue='Survived', palette=custom_colors, legend=False)\n",
    "plt.grid(axis='y', linestyle='--', alpha=0.5, color='gray')\n",
    "plt.title(\"Survival plot (0 = NO & 1 = YES)\", fontsize=14, fontweight='bold')\n",
    "plt.xlabel(\"Survival status\", fontsize=12, fontweight='bold')\n",
    "plt.ylabel(\"Number of Passengers\", fontsize=12, fontweight='bold')\n",
    "plt.show()\n"
   ]
  },
  {
   "cell_type": "code",
   "execution_count": null,
   "metadata": {},
   "outputs": [],
   "source": [
    "# Survival rate by gender\n",
    "plt.figure(figsize=(8, 6))\n",
    "custom_colors = [\"#87CEEB\", \"#FF69B4\"]\n",
    "sns.countplot(x='Survived', data=df, hue='Sex', palette=custom_colors)\n",
    "plt.grid(axis='y', linestyle='--', alpha=0.5, color='gray')\n",
    "plt.title(\"Survival rate by Gender (0 = NO, 1 = YES)\", fontsize=14, fontweight='bold')\n",
    "plt.xlabel(\"Survival count\", fontsize=12, fontweight='bold')\n",
    "plt.ylabel(\"Number of passenger\", fontsize=12, fontweight='bold')\n",
    "plt.show()\n"
   ]
  },
  {
   "cell_type": "code",
   "execution_count": null,
   "metadata": {},
   "outputs": [],
   "source": [
    "# Age distribution of passengers\n",
    "plt.figure(figsize=(8, 6))\n",
    "sns.histplot(df['Age'], bins=20, kde=True, color=\"red\")\n",
    "plt.title(\"Age distribution of Passengers\", fontsize=14, fontweight='bold')\n",
    "plt.xlabel(\"Age\", fontsize=12, fontweight='bold')\n",
    "plt.ylabel(\"Number of Passengers\", fontsize=12, fontweight='bold')\n",
    "plt.show()"
   ]
  },
  {
   "cell_type": "code",
   "execution_count": null,
   "metadata": {},
   "outputs": [],
   "source": [
    "# Passenger Class vs. Survival\n",
    "plt.figure(figsize=(8, 6))\n",
    "custom_colors = [\"#C0392B\", \"#2E8B57\"]\n",
    "sns.countplot(x='Pclass', hue='Survived', data=df, palette=custom_colors)\n",
    "plt.title(\"Survival rate by Passenger Class\", fontsize=14, fontweight='bold')\n",
    "plt.xlabel(\"Pclass\", fontsize=12, fontweight='bold')\n",
    "plt.ylabel(\"Survival Count\", fontsize=12, fontweight='bold')\n",
    "plt.show()"
   ]
  },
  {
   "cell_type": "code",
   "execution_count": null,
   "metadata": {},
   "outputs": [],
   "source": [
    "# Fare vs. Survival\n",
    "plt.figure(figsize=(8, 6))\n",
    "sns.boxplot(x='Survived', y='Fare', data=df, hue='Survived', palette='coolwarm')\n",
    "plt.title(\"Fare Paid vs Survival\", fontsize=14, fontweight='bold')\n",
    "plt.show()"
   ]
  },
  {
   "cell_type": "code",
   "execution_count": null,
   "metadata": {},
   "outputs": [],
   "source": [
    "# Age vs Fare Scatter plot\n",
    "plt.figure(figsize=(8, 6))\n",
    "sns.scatterplot(x='Age', y='Fare', hue='Survived', data=df, palette='coolwarm')\n",
    "plt.title(\"Age vs Fare (Survival highlighted)\", fontsize=14, fontweight='bold')\n",
    "plt.xlabel(\"Age\", fontsize=14, fontweight='bold')\n",
    "plt.ylabel(\"Fare\", fontsize=14, fontweight='bold')\n",
    "plt.show()"
   ]
  }
 ],
 "metadata": {
  "kernelspec": {
   "display_name": "Python 3",
   "language": "python",
   "name": "python3"
  },
  "language_info": {
   "codemirror_mode": {
    "name": "ipython",
    "version": 3
   },
   "file_extension": ".py",
   "mimetype": "text/x-python",
   "name": "python",
   "nbconvert_exporter": "python",
   "pygments_lexer": "ipython3",
   "version": "3.13.2"
  }
 },
 "nbformat": 4,
 "nbformat_minor": 2
}
